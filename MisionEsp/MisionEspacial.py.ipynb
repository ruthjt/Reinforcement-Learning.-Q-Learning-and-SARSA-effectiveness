{
 "cells": [
  {
   "cell_type": "code",
   "execution_count": 1,
   "id": "a1a4ee32-63d1-4067-8bb7-74868c862cf3",
   "metadata": {},
   "outputs": [
    {
     "name": "stdout",
     "output_type": "stream",
     "text": [
      "pygame 2.1.0 (SDL 2.0.16, Python 3.9.18)\n",
      "Hello from the pygame community. https://www.pygame.org/contribute.html\n"
     ]
    }
   ],
   "source": [
    "import numpy as np\n",
    "import random\n",
    "import pygame\n",
    "from os import path\n",
    "from enum import Enum\n",
    "import matplotlib.pyplot as plt"
   ]
  },
  {
   "cell_type": "code",
   "execution_count": 9,
   "id": "64c6bfb0-2cd1-4321-a732-d32d488c8fe0",
   "metadata": {},
   "outputs": [],
   "source": [
    "code = \"\"\"\n",
    "import numpy as np\n",
    "import random\n",
    "import pygame\n",
    "from os import path\n",
    "from enum import Enum\n",
    "import matplotlib.pyplot as plt\n",
    "\n",
    "class NaveAction(Enum):  # Enumeramos las acciones disponibles\n",
    "    izq = 0  \n",
    "    abajo = 1  \n",
    "    dcha = 2  \n",
    "    arriba = 3  \n",
    "\n",
    "class MisionEspacial:\n",
    "    def __init__(self, grid_rows=4, grid_cols=5, fps=6):  # fps reducido para disminuir la velocidad\n",
    "        self.grid_rows = grid_rows\n",
    "        self.grid_cols = grid_cols\n",
    "        self.fps = fps\n",
    "        self._init_pygame()\n",
    "        self.reset()\n",
    "\n",
    "    def _init_pygame(self): # Diseñamos el entorno\n",
    "        pygame.init()\n",
    "        pygame.display.init()\n",
    "        self.clock = pygame.time.Clock()\n",
    "        self.action_font = pygame.font.SysFont(\"Calibri\", 30)\n",
    "        self.cell_height = 64\n",
    "        self.cell_width = 64\n",
    "        self.cell_size = (self.cell_width, self.cell_height)\n",
    "        self.window_size = (self.cell_width * self.grid_cols, self.cell_height * self.grid_rows + self.action_font.get_height())\n",
    "        self.window_surface = pygame.display.set_mode(self.window_size)\n",
    "        self.load_sprites()\n",
    "\n",
    "    def load_sprites(self): # Cargamos las imágenes que constituirán la apariencia del juego\n",
    "        self.nave_img = pygame.transform.scale(pygame.image.load(path.join(\"nave.png\")), self.cell_size)\n",
    "        self.fondo_img = pygame.transform.scale(pygame.image.load(path.join(\"cielo.png\")), self.cell_size)\n",
    "        self.target_img = pygame.transform.scale(pygame.image.load(path.join(\"saturno.png\")), self.cell_size)\n",
    "\n",
    "    def reset(self, seed=None):\n",
    "        random.seed(seed)\n",
    "        self.agent_pos = [0, 0]\n",
    "        self.target_pos = [random.randint(1, self.grid_rows-1), random.randint(1, self.grid_cols-1)]\n",
    "        self.last_action = None\n",
    "        return self.agent_pos\n",
    "\n",
    "    def perform_action(self, action: NaveAction) -> bool:\n",
    "        movements = {NaveAction.izq: (0, -1), NaveAction.abajo: (1, 0), NaveAction.dcha: (0, 1), NaveAction.arriba: (-1, 0)}\n",
    "        move = movements[action]\n",
    "        new_pos = [self.agent_pos[0] + move[0], self.agent_pos[1] + move[1]]\n",
    "        if 0 <= new_pos[0] < self.grid_rows and 0 <= new_pos[1] < self.grid_cols:\n",
    "            self.agent_pos = new_pos\n",
    "            self.last_action = action\n",
    "        return self.agent_pos == self.target_pos\n",
    "\n",
    "    def render(self):\n",
    "        self.window_surface.fill((0, 0, 0))\n",
    "        for row in range(self.grid_rows):\n",
    "            for col in range(self.grid_cols):\n",
    "                self.window_surface.blit(self.fondo_img, (col * self.cell_width, row * self.cell_height))\n",
    "        self.window_surface.blit(self.target_img, (self.target_pos[1] * self.cell_width, self.target_pos[0] * self.cell_height))\n",
    "        self.window_surface.blit(self.nave_img, (self.agent_pos[1] * self.cell_width, self.agent_pos[0] * self.cell_height))\n",
    "        if self.last_action is not None:\n",
    "            action_text = self.action_font.render(str(self.last_action), True, (255, 255, 255))\n",
    "            self.window_surface.blit(action_text, (10, self.grid_rows * self.cell_height))\n",
    "        pygame.display.flip()\n",
    "        self.clock.tick(self.fps)\n",
    "\n",
    "    def close(self):\n",
    "        pygame.quit()\n",
    "\"\"\"\n",
    "\n",
    "# Especificar el nombre del archivo\n",
    "filename = \"mision_espacial.py\"\n",
    "\n",
    "# Escribir el contenido en el archivo\n",
    "with open(filename, \"w\") as file:\n",
    "    file.write(code)\n"
   ]
  },
  {
   "cell_type": "code",
   "execution_count": 10,
   "id": "d17e06e7-3df6-4793-bb5e-1046019ff25c",
   "metadata": {},
   "outputs": [],
   "source": [
    "filename = \"mision_espacial.py\"\n",
    "\n",
    "# Escribir el contenido en el archivo\n",
    "with open(filename, \"w\") as file:\n",
    "    file.write(code)"
   ]
  }
 ],
 "metadata": {
  "kernelspec": {
   "display_name": "gym",
   "language": "python",
   "name": "gym"
  },
  "language_info": {
   "codemirror_mode": {
    "name": "ipython",
    "version": 3
   },
   "file_extension": ".py",
   "mimetype": "text/x-python",
   "name": "python",
   "nbconvert_exporter": "python",
   "pygments_lexer": "ipython3",
   "version": "3.9.18"
  }
 },
 "nbformat": 4,
 "nbformat_minor": 5
}
